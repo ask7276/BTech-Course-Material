{
 "cells": [
  {
   "cell_type": "markdown",
   "metadata": {
    "slideshow": {
     "slide_type": "slide"
    }
   },
   "source": [
    "# Tutorial on Supervised Learning\n",
    "\n",
    "## Part 1 : Linear Regression (implemented in Python from scratch)"
   ]
  },
  {
   "cell_type": "markdown",
   "metadata": {
    "slideshow": {
     "slide_type": "slide"
    }
   },
   "source": [
    "## Quick Recap\n",
    "\n",
    "- Machine Learning systems are usually classified according to the amount and type of supervision they get during training. \n",
    "- There are four major categories: Supervised Learning, Unsupervised Learning, Semi-supervised Learning, and Reinforcement Learning. Let us focus on **Supervised Learning** for now."
   ]
  },
  {
   "cell_type": "markdown",
   "metadata": {
    "slideshow": {
     "slide_type": "subslide"
    }
   },
   "source": [
    "In supervised learning, the training data you feed to the algorithm includes the desired solutions, called _labels_. Generally there are two kinds of tasks:\n",
    "\n",
    "- Regression : Given a set of features (predictors), predict a target numeric value.\n",
    "- Classification (in the next part)\n",
    "\n",
    "Let's try **Linear Regression** first !"
   ]
  },
  {
   "cell_type": "markdown",
   "metadata": {
    "slideshow": {
     "slide_type": "slide"
    }
   },
   "source": [
    "## Univariate Linear Regression (ULR)\n",
    "\n",
    "There can be several features. For simplicity, let's use only one feature for regression."
   ]
  },
  {
   "cell_type": "markdown",
   "metadata": {
    "slideshow": {
     "slide_type": "slide"
    }
   },
   "source": [
    "## The dataset\n",
    "\n",
    "We will use a sample dataset called *Portland Housing Prices*, wherein we are given some features of a house (i.e. area, no. of rooms, etc) and predict the target price. For ULR, assume the predictor is the **area** of a house. "
   ]
  },
  {
   "cell_type": "markdown",
   "metadata": {
    "slideshow": {
     "slide_type": "subslide"
    }
   },
   "source": [
    "### Problem statement\n",
    "\n",
    "- The data file (ex1data2.txt) contains a training set of housing prices in Portland,Oregon. \n",
    "- Data format: <size of the house (in square feet), number of bedrooms, price of the house>\n",
    "- Need to train on this data, and predict market price of new houses. "
   ]
  },
  {
   "cell_type": "markdown",
   "metadata": {
    "slideshow": {
     "slide_type": "slide"
    }
   },
   "source": [
    "# Implementation"
   ]
  },
  {
   "cell_type": "code",
   "execution_count": 1,
   "metadata": {
    "slideshow": {
     "slide_type": "subslide"
    }
   },
   "outputs": [],
   "source": [
    "#importing dependencies\n",
    "\n",
    "import numpy as np  #python library for scientific computing\n",
    "import pandas as pd #python library for data analysis and dataframes"
   ]
  },
  {
   "cell_type": "code",
   "execution_count": 2,
   "metadata": {
    "slideshow": {
     "slide_type": "subslide"
    }
   },
   "outputs": [
    {
     "data": {
      "text/html": [
       "<div>\n",
       "<style scoped>\n",
       "    .dataframe tbody tr th:only-of-type {\n",
       "        vertical-align: middle;\n",
       "    }\n",
       "\n",
       "    .dataframe tbody tr th {\n",
       "        vertical-align: top;\n",
       "    }\n",
       "\n",
       "    .dataframe thead th {\n",
       "        text-align: right;\n",
       "    }\n",
       "</style>\n",
       "<table border=\"1\" class=\"dataframe\">\n",
       "  <thead>\n",
       "    <tr style=\"text-align: right;\">\n",
       "      <th></th>\n",
       "      <th>Size</th>\n",
       "      <th>Bedrooms</th>\n",
       "      <th>Price</th>\n",
       "    </tr>\n",
       "  </thead>\n",
       "  <tbody>\n",
       "    <tr>\n",
       "      <th>0</th>\n",
       "      <td>2104</td>\n",
       "      <td>3</td>\n",
       "      <td>399900</td>\n",
       "    </tr>\n",
       "    <tr>\n",
       "      <th>1</th>\n",
       "      <td>1600</td>\n",
       "      <td>3</td>\n",
       "      <td>329900</td>\n",
       "    </tr>\n",
       "    <tr>\n",
       "      <th>2</th>\n",
       "      <td>2400</td>\n",
       "      <td>3</td>\n",
       "      <td>369000</td>\n",
       "    </tr>\n",
       "    <tr>\n",
       "      <th>3</th>\n",
       "      <td>1416</td>\n",
       "      <td>2</td>\n",
       "      <td>232000</td>\n",
       "    </tr>\n",
       "    <tr>\n",
       "      <th>4</th>\n",
       "      <td>3000</td>\n",
       "      <td>4</td>\n",
       "      <td>539900</td>\n",
       "    </tr>\n",
       "  </tbody>\n",
       "</table>\n",
       "</div>"
      ],
      "text/plain": [
       "   Size  Bedrooms   Price\n",
       "0  2104         3  399900\n",
       "1  1600         3  329900\n",
       "2  2400         3  369000\n",
       "3  1416         2  232000\n",
       "4  3000         4  539900"
      ]
     },
     "execution_count": 2,
     "metadata": {},
     "output_type": "execute_result"
    }
   ],
   "source": [
    "# load data\n",
    "\n",
    "data = pd.read_csv('./ex1data2.txt', header=None)\n",
    "data.columns =(['Size','Bedrooms','Price'])\n",
    "data.head()"
   ]
  },
  {
   "cell_type": "code",
   "execution_count": 3,
   "metadata": {
    "slideshow": {
     "slide_type": "subslide"
    }
   },
   "outputs": [
    {
     "data": {
      "text/html": [
       "<div>\n",
       "<style scoped>\n",
       "    .dataframe tbody tr th:only-of-type {\n",
       "        vertical-align: middle;\n",
       "    }\n",
       "\n",
       "    .dataframe tbody tr th {\n",
       "        vertical-align: top;\n",
       "    }\n",
       "\n",
       "    .dataframe thead th {\n",
       "        text-align: right;\n",
       "    }\n",
       "</style>\n",
       "<table border=\"1\" class=\"dataframe\">\n",
       "  <thead>\n",
       "    <tr style=\"text-align: right;\">\n",
       "      <th></th>\n",
       "      <th>Size</th>\n",
       "      <th>Price</th>\n",
       "    </tr>\n",
       "  </thead>\n",
       "  <tbody>\n",
       "    <tr>\n",
       "      <th>0</th>\n",
       "      <td>2104</td>\n",
       "      <td>399900</td>\n",
       "    </tr>\n",
       "    <tr>\n",
       "      <th>1</th>\n",
       "      <td>1600</td>\n",
       "      <td>329900</td>\n",
       "    </tr>\n",
       "    <tr>\n",
       "      <th>2</th>\n",
       "      <td>2400</td>\n",
       "      <td>369000</td>\n",
       "    </tr>\n",
       "    <tr>\n",
       "      <th>3</th>\n",
       "      <td>1416</td>\n",
       "      <td>232000</td>\n",
       "    </tr>\n",
       "    <tr>\n",
       "      <th>4</th>\n",
       "      <td>3000</td>\n",
       "      <td>539900</td>\n",
       "    </tr>\n",
       "  </tbody>\n",
       "</table>\n",
       "</div>"
      ],
      "text/plain": [
       "   Size   Price\n",
       "0  2104  399900\n",
       "1  1600  329900\n",
       "2  2400  369000\n",
       "3  1416  232000\n",
       "4  3000  539900"
      ]
     },
     "execution_count": 3,
     "metadata": {},
     "output_type": "execute_result"
    }
   ],
   "source": [
    "# Since we assume predictor variable is only area (size), remove the other feature\n",
    "data.drop('Bedrooms', axis=1, inplace=True)\n",
    "data.head()"
   ]
  },
  {
   "cell_type": "code",
   "execution_count": 4,
   "metadata": {
    "slideshow": {
     "slide_type": "subslide"
    }
   },
   "outputs": [
    {
     "data": {
      "image/png": "[encoded data removed]",
      "text/plain": [
       "<Figure size 432x288 with 1 Axes>"
      ]
     },
     "metadata": {},
     "output_type": "display_data"
    }
   ],
   "source": [
    "# necessary dependencies for plotting\n",
    "import matplotlib.pyplot as plt #python library for plot and graphs\n",
    "%matplotlib inline\n",
    "\n",
    "plt.plot(data.Size, data.Price, 'r.')\n",
    "plt.xlabel('Size (in square feet)')\n",
    "plt.ylabel('Price (in US dollars)')\n",
    "plt.savefig('data_scatter.png')\n",
    "plt.show()"
   ]
  },
  {
   "cell_type": "markdown",
   "metadata": {
    "slideshow": {
     "slide_type": "subslide"
    }
   },
   "source": [
    "**Observation** : High correlation between Housing Area and Housing Price. Intuitively, we could use a line (linear model) to fit this data!"
   ]
  },
  {
   "cell_type": "code",
   "execution_count": 5,
   "metadata": {
    "slideshow": {
     "slide_type": "fragment"
    }
   },
   "outputs": [
    {
     "data": {
      "text/html": [
       "<div>\n",
       "<style scoped>\n",
       "    .dataframe tbody tr th:only-of-type {\n",
       "        vertical-align: middle;\n",
       "    }\n",
       "\n",
       "    .dataframe tbody tr th {\n",
       "        vertical-align: top;\n",
       "    }\n",
       "\n",
       "    .dataframe thead th {\n",
       "        text-align: right;\n",
       "    }\n",
       "</style>\n",
       "<table border=\"1\" class=\"dataframe\">\n",
       "  <thead>\n",
       "    <tr style=\"text-align: right;\">\n",
       "      <th></th>\n",
       "      <th>Size</th>\n",
       "      <th>Price</th>\n",
       "    </tr>\n",
       "  </thead>\n",
       "  <tbody>\n",
       "    <tr>\n",
       "      <th>Size</th>\n",
       "      <td>1.000000</td>\n",
       "      <td>0.854988</td>\n",
       "    </tr>\n",
       "    <tr>\n",
       "      <th>Price</th>\n",
       "      <td>0.854988</td>\n",
       "      <td>1.000000</td>\n",
       "    </tr>\n",
       "  </tbody>\n",
       "</table>\n",
       "</div>"
      ],
      "text/plain": [
       "           Size     Price\n",
       "Size   1.000000  0.854988\n",
       "Price  0.854988  1.000000"
      ]
     },
     "execution_count": 5,
     "metadata": {},
     "output_type": "execute_result"
    }
   ],
   "source": [
    "data.corr()"
   ]
  },
  {
   "cell_type": "markdown",
   "metadata": {
    "slideshow": {
     "slide_type": "slide"
    }
   },
   "source": [
    "## The idea in Linear Regression\n",
    "\n",
    "<center><img src=\"regression_eqn.png\"></center>"
   ]
  },
  {
   "cell_type": "code",
   "execution_count": 6,
   "metadata": {
    "slideshow": {
     "slide_type": "subslide"
    }
   },
   "outputs": [
    {
     "name": "stdout",
     "output_type": "stream",
     "text": [
      "(47, 1)\n",
      "(47,)\n"
     ]
    }
   ],
   "source": [
    "X = np.array(data.drop('Price',axis=1))\n",
    "y = np.array(data.Price)\n",
    "m = len(data)\n",
    "\n",
    "print(X.shape)\n",
    "print(y.shape)"
   ]
  },
  {
   "cell_type": "code",
   "execution_count": 7,
   "metadata": {
    "slideshow": {
     "slide_type": "fragment"
    }
   },
   "outputs": [
    {
     "name": "stdout",
     "output_type": "stream",
     "text": [
      "(47, 1)\n"
     ]
    }
   ],
   "source": [
    "y = y.reshape((m,1))   # reshaping into a matrix\n",
    "print(y.shape)"
   ]
  },
  {
   "cell_type": "code",
   "execution_count": 8,
   "metadata": {
    "slideshow": {
     "slide_type": "subslide"
    }
   },
   "outputs": [],
   "source": [
    "# feature scaling and normalization\n",
    "\n",
    "def normscaler(Z, normal=False, scale='max'): \n",
    "    Zn = np.zeros(Z.shape)\n",
    "    for col in range(Zn.shape[1]):\n",
    "        std = Z[:,col].std()\n",
    "        clm = Z[:,col]\n",
    "        mn = Z[:,col].mean()\n",
    "        mx = Z[:,col].max()\n",
    "        nrm = 0\n",
    "        sclr = 1\n",
    "        if normal:\n",
    "            nrm = mn\n",
    "            \n",
    "        if scale =='max':\n",
    "            sclr = mx\n",
    "        elif scale == 'std':\n",
    "            sclr = std\n",
    "        Zn[:,col] = (clm-nrm)/sclr\n",
    "        \n",
    "    return Zn"
   ]
  },
  {
   "cell_type": "code",
   "execution_count": 9,
   "metadata": {
    "slideshow": {
     "slide_type": "subslide"
    }
   },
   "outputs": [
    {
     "data": {
      "image/png": "[encoded data removed]",
      "text/plain": [
       "<Figure size 432x288 with 1 Axes>"
      ]
     },
     "metadata": {},
     "output_type": "display_data"
    }
   ],
   "source": [
    "Xn = normscaler(X, normal=True, scale='std')\n",
    "yn = normscaler(y, normal=True, scale='std')\n",
    "\n",
    "plt.plot(Xn, yn, 'r.')\n",
    "plt.show()"
   ]
  },
  {
   "cell_type": "code",
   "execution_count": 11,
   "metadata": {
    "slideshow": {
     "slide_type": "subslide"
    }
   },
   "outputs": [
    {
     "data": {
      "image/png": "[encoded data removed]",
      "text/plain": [
       "<Figure size 432x288 with 1 Axes>"
      ]
     },
     "metadata": {},
     "output_type": "display_data"
    }
   ],
   "source": [
    "# random parameter initialization\n",
    "theta = np.array([0.9,-1])\n",
    "\n",
    "lineX = np.linspace(Xn.min(), Xn.max(), 100)\n",
    "liney = [theta[0] + theta[1]*xx for xx in lineX]\n",
    "\n",
    "plt.plot(Xn,yn,'r.', label='Training data')\n",
    "plt.plot(lineX,liney,'b--', label='Current hypothesis')\n",
    "plt.legend()\n",
    "plt.show() "
   ]
  },
  {
   "cell_type": "code",
   "execution_count": 12,
   "metadata": {
    "slideshow": {
     "slide_type": "subslide"
    }
   },
   "outputs": [
    {
     "data": {
      "text/plain": [
       "2.259987592878125"
      ]
     },
     "execution_count": 12,
     "metadata": {},
     "output_type": "execute_result"
    }
   ],
   "source": [
    "def cost_function(X, y, theta, deriv=False):\n",
    "    z = np.ones((len(X),1))           # column of all 1's (x_0 column of matrix X)\n",
    "    X = np.append(z, X, axis=1)\n",
    "    \n",
    "    if deriv:\n",
    "        loss     = X.dot(theta)-y\n",
    "        gradient = X.T.dot(loss)/len(X)\n",
    "        return gradient, loss\n",
    "        \n",
    "    else:\n",
    "        h = X.dot(theta)\n",
    "        j = (h-y.flatten())\n",
    "        J = j.dot(j)/2/(len(X))\n",
    "        return J                    # returns cost (in this case, MSE cost)\n",
    "    \n",
    "cost_function(Xn, yn, theta)"
   ]
  },
  {
   "cell_type": "code",
   "execution_count": 13,
   "metadata": {
    "slideshow": {
     "slide_type": "subslide"
    }
   },
   "outputs": [
    {
     "name": "stdout",
     "output_type": "stream",
     "text": [
      "iteration : 1\n",
      "\tgradient =  [ 1.02497703 -1.01186205]\n",
      "\trate     =  [ 0.01024977 -0.01011862]\n",
      "\ttheta    =  [ 0.88975023 -0.98988138]\n",
      "\tcost     =  1.5476729221946035\n",
      "iteration : 251\n",
      "\tgradient =  [ 0.04767076 -0.29470635]\n",
      "\trate     =  [ 0.00047671 -0.00294706]\n",
      "\ttheta    =  [0.04532149 0.43827016]\n",
      "\tcost     =  0.15187018177727896\n",
      "iteration : 501\n",
      "\tgradient =  [-0.00724839 -0.09542187]\n",
      "\trate     =  [-7.24839206e-05 -9.54218677e-04]\n",
      "\ttheta    =  [0.02877192 0.87724003]\n",
      "\tcost     =  0.06550859731882473\n",
      "iteration : 751\n",
      "\tgradient =  [-0.00425784 -0.0317633 ]\n",
      "\trate     =  [-4.25783718e-05 -3.17633010e-04]\n",
      "\ttheta    =  [0.04415607 1.0214539 ]\n",
      "\tcost     =  0.05620850392203404\n",
      "iteration : 1001\n",
      "\tgradient =  [-0.00157275 -0.01064365]\n",
      "\trate     =  [-1.5727469e-05 -1.0643646e-04]\n",
      "\ttheta    =  [0.05096421 1.06962801]\n",
      "\tcost     =  0.05516264135740254\n",
      "iteration : 1251\n",
      "\tgradient =  [-0.00053931 -0.00357219]\n",
      "\trate     =  [-5.39313224e-06 -3.57218620e-05]\n",
      "\ttheta    =  [0.05337906 1.08578419]\n",
      "\tcost     =  0.05504474088262382\n",
      "iteration : 1501\n",
      "\tgradient =  [-0.00018197 -0.00119932]\n",
      "\trate     =  [-1.81969074e-06 -1.19932415e-05]\n",
      "\ttheta    =  [0.05420001 1.09120753]\n",
      "\tcost     =  0.05503144815633974\n",
      "iteration : 1751\n",
      "\tgradient =  [-6.11700564e-05 -4.02694948e-04]\n",
      "\trate     =  [-6.11700564e-07 -4.02694948e-06]\n",
      "\ttheta    =  [0.05447646 1.09302844]\n",
      "\tcost     =  0.055029949452873095\n",
      "iteration : 2001\n",
      "\tgradient =  [-2.0544911e-05 -1.3521487e-04]\n",
      "\trate     =  [-2.0544911e-07 -1.3521487e-06]\n",
      "\ttheta    =  [0.05456935 1.09363985]\n",
      "\tcost     =  0.055029780479788154\n",
      "iteration : 2251\n",
      "\tgradient =  [-6.89893279e-06 -4.54019757e-05]\n",
      "\trate     =  [-6.89893279e-08 -4.54019757e-07]\n",
      "\ttheta    =  [0.05460054 1.09384515]\n",
      "\tcost     =  0.05502976142871856\n",
      "iteration : 2501\n",
      "\tgradient =  [-2.31653611e-06 -1.52449331e-05]\n",
      "\trate     =  [-2.31653611e-08 -1.52449331e-07]\n",
      "\ttheta    =  [0.05461102 1.09391408]\n",
      "\tcost     =  0.055029759280783255\n",
      "iteration : 2751\n",
      "\tgradient =  [-7.77842106e-07 -5.11889717e-06]\n",
      "\trate     =  [-7.77842106e-09 -5.11889717e-08]\n",
      "\ttheta    =  [0.05461453 1.09393723]\n",
      "\tcost     =  0.055029759038611764\n",
      "iteration : 3001\n",
      "\tgradient =  [-2.61181676e-07 -1.71880779e-06]\n",
      "\trate     =  [-2.61181676e-09 -1.71880779e-08]\n",
      "\ttheta    =  [0.05461571 1.093945  ]\n",
      "\tcost     =  0.05502975901130785\n",
      "iteration : 3251\n",
      "\tgradient =  [-8.76988099e-08 -5.77136082e-07]\n",
      "\trate     =  [-8.76988099e-10 -5.77136082e-09]\n",
      "\ttheta    =  [0.05461611 1.09394761]\n",
      "\tcost     =  0.055029759008229436\n",
      "iteration : 3501\n",
      "\tgradient =  [-2.94472426e-08 -1.93789009e-07]\n",
      "\trate     =  [-2.94472426e-10 -1.93789009e-09]\n",
      "\ttheta    =  [0.05461624 1.09394849]\n",
      "\tcost     =  0.05502975900788236\n",
      "iteration : 3751\n",
      "\tgradient =  [-9.88770626e-09 -6.50698878e-08]\n",
      "\trate     =  [-9.88770626e-11 -6.50698878e-10]\n",
      "\ttheta    =  [0.05461629 1.09394878]\n",
      "\tcost     =  0.055029759007843224\n"
     ]
    }
   ],
   "source": [
    "def GradDescent(features, target, param, learnRate=0.01, multiple=1, batch=len(X), log=False):\n",
    "\n",
    "    iterations = batch*len(features)\n",
    "    epochs     = iterations*multiple\n",
    "    y          = target.flatten()\n",
    "    t          = param\n",
    "    b          = batch\n",
    "    a          = learnRate\n",
    "    \n",
    "    theta_history  = np.zeros((param.shape[0],epochs)).T\n",
    "    cost_history   = [0]*epochs\n",
    "    \n",
    "    for ix in range(epochs):\n",
    "        \n",
    "        i    = epochs%len(X)\n",
    "        cost = cost_function(features[i:i+b], y[i:i+b], t)\n",
    "\n",
    "        cost_history[ix]   = cost\n",
    "        theta_history[ix]  = t\n",
    "\n",
    "        g, l = cost_function(features[i:i+b], y[i:i+b], t, deriv=True)\n",
    "        t    = t-a*g\n",
    "        \n",
    "        if log:\n",
    "            if ix%250==0:\n",
    "                print(\"iteration :\", ix+1)\n",
    "                #print(\"\\tloss     = \", l)\n",
    "                print(\"\\tgradient = \", g)\n",
    "                print(\"\\trate     = \", a*g)\n",
    "                print(\"\\ttheta    = \", t)\n",
    "                print(\"\\tcost     = \", cost)\n",
    "            \n",
    "    return cost_history, theta_history\n",
    "\n",
    "alpha = 0.01\n",
    "mul = 10\n",
    "bat = 8\n",
    "ch, th = GradDescent(Xn,yn,theta,alpha,mul,bat,log=True)   "
   ]
  },
  {
   "cell_type": "code",
   "execution_count": 14,
   "metadata": {
    "slideshow": {
     "slide_type": "subslide"
    }
   },
   "outputs": [
    {
     "data": {
      "image/png": "[encoded data removed]",
      "text/plain": [
       "<Figure size 432x288 with 1 Axes>"
      ]
     },
     "metadata": {},
     "output_type": "display_data"
    }
   ],
   "source": [
    "# training resuls\n",
    "\n",
    "lineX = np.linspace(Xn.min(), Xn.max(), 100)\n",
    "\n",
    "# the final values of theta are used for the fit\n",
    "liney = [th[-1,0] + th[-1,1]*xx for xx in lineX]\n",
    "\n",
    "plt.plot(Xn,yn,'r.', label='Training data')\n",
    "plt.plot(lineX,liney,'b--', label='Current hypothesis')\n",
    "plt.legend()\n",
    "plt.show() "
   ]
  },
  {
   "cell_type": "code",
   "execution_count": 19,
   "metadata": {
    "slideshow": {
     "slide_type": "subslide"
    }
   },
   "outputs": [
    {
     "data": {
      "image/png": "[encoded data removed]",
      "text/plain": [
       "<Figure size 432x288 with 1 Axes>"
      ]
     },
     "metadata": {},
     "output_type": "display_data"
    }
   ],
   "source": [
    "# Loss plot\n",
    "\n",
    "plt.plot(ch,'g--')\n",
    "plt.ylabel('Cost')\n",
    "plt.xlabel('Number of iterations')\n",
    "plt.show()"
   ]
  },
  {
   "cell_type": "code",
   "execution_count": 20,
   "metadata": {
    "slideshow": {
     "slide_type": "subslide"
    }
   },
   "outputs": [
    {
     "data": {
      "image/png": "[encoded data removed]",
      "text/plain": [
       "<Figure size 432x288 with 1 Axes>"
      ]
     },
     "metadata": {},
     "output_type": "display_data"
    }
   ],
   "source": [
    "# How parameters are changing\n",
    "\n",
    "plt.plot(th[:,0],'r-.', label = 'theta_0')\n",
    "plt.plot(th[:,1],'b-.', label = 'theta_1')\n",
    "plt.ylabel('Parameter value')\n",
    "plt.xlabel('Number of iterations')\n",
    "plt.legend()\n",
    "plt.show()"
   ]
  },
  {
   "cell_type": "code",
   "execution_count": 17,
   "metadata": {
    "slideshow": {
     "slide_type": "subslide"
    }
   },
   "outputs": [],
   "source": [
    "#Grid over which we will calculate J\n",
    "theta0_vals = np.linspace(-2, 2, 100)\n",
    "theta1_vals = np.linspace(-2, 3, 100)\n",
    "\n",
    "#initialize J_vals to a matrix of 0's\n",
    "J_vals = np.zeros((theta0_vals.size, theta1_vals.size))\n",
    "\n",
    "#Fill out J_vals\n",
    "for t1, element in enumerate(theta0_vals):\n",
    "    for t2, element2 in enumerate(theta1_vals):\n",
    "        thetaT = np.zeros(shape=(2, 1))\n",
    "        thetaT[0][0] = element\n",
    "        thetaT[1][0] = element2\n",
    "        J_vals[t1, t2] = cost_function(Xn, yn, thetaT.flatten())\n",
    "\n",
    "#Contour plot\n",
    "J_vals = J_vals.T"
   ]
  },
  {
   "cell_type": "code",
   "execution_count": 18,
   "metadata": {
    "slideshow": {
     "slide_type": "subslide"
    }
   },
   "outputs": [
    {
     "data": {
      "image/png": "[encoded data removed]",
      "text/plain": [
       "<Figure size 432x288 with 2 Axes>"
      ]
     },
     "metadata": {},
     "output_type": "display_data"
    }
   ],
   "source": [
    "A, B = np.meshgrid(theta0_vals, theta1_vals)\n",
    "C = J_vals\n",
    "\n",
    "cp = plt.contourf(A, B, C)\n",
    "plt.colorbar(cp)\n",
    "plt.plot(th.T[0],th.T[1],'r--')\n",
    "plt.show()"
   ]
  },
  {
   "cell_type": "markdown",
   "metadata": {
    "slideshow": {
     "slide_type": "slide"
    }
   },
   "source": [
    "# End of Part 1"
   ]
  }
 ],
 "metadata": {
  "celltoolbar": "Slideshow",
  "kernelspec": {
   "display_name": "Python 3",
   "language": "python",
   "name": "python3"
  },
  "language_info": {
   "codemirror_mode": {
    "name": "ipython",
    "version": 3
   },
   "file_extension": ".py",
   "mimetype": "text/x-python",
   "name": "python",
   "nbconvert_exporter": "python",
   "pygments_lexer": "ipython3",
   "version": "3.6.9"
  }
 },
 "nbformat": 4,
 "nbformat_minor": 2
}
