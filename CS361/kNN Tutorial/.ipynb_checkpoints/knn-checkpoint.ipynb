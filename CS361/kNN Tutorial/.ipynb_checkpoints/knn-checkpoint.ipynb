{
 "cells": [
  {
   "cell_type": "markdown",
   "metadata": {
    "slideshow": {
     "slide_type": "slide"
    }
   },
   "source": [
    "# Tutorial on Supervised Learning\n",
    "\n",
    "## Part 2 : Classification using k-Nearest Neighbor (k-NN)  (implemented in Python from scratch)"
   ]
  },
  {
   "cell_type": "markdown",
   "metadata": {
    "slideshow": {
     "slide_type": "slide"
    }
   },
   "source": [
    "## Quick Recap\n",
    "\n",
    "### k-NN - A lazy learner !\n",
    "It doesn’t learn a discriminative function from the training data, but “memorizes” the training dataset instead."
   ]
  },
  {
   "cell_type": "markdown",
   "metadata": {
    "slideshow": {
     "slide_type": "subslide"
    }
   },
   "source": [
    "Example - With given data below, classify a new point (denoted by the blue star), which can belong in either red or green class. \n",
    "<center><img src=\"scenario1.webp\"></center>\n"
   ]
  },
  {
   "cell_type": "markdown",
   "metadata": {
    "slideshow": {
     "slide_type": "subslide"
    }
   },
   "source": [
    "Assume k = 3. Then based on the class votes received from the 3-nearest neighbors, Blue Star will be classified into the majority class.\n",
    "<center><img src=\"scenario2.webp\"></center>\n"
   ]
  },
  {
   "cell_type": "markdown",
   "metadata": {
    "slideshow": {
     "slide_type": "subslide"
    }
   },
   "source": [
    "## Pre-requisite \n",
    "\n",
    "- **Euclidean distance** between two points \n",
    "- How **voting** works\n",
    "- Dataset knowledge : **Titanic dataset (used previously in the tutorial on Naive Bayes)** "
   ]
  },
  {
   "cell_type": "markdown",
   "metadata": {
    "slideshow": {
     "slide_type": "subslide"
    }
   },
   "source": [
    "- With given dataset: Memorize a person's *Age* and *Fare*; supervision (label): he/she *survived* or not.\n",
    "- Classifying a new datapoint: Using *Age* and *Fare* our learner will predict whether the person survives or not."
   ]
  },
  {
   "cell_type": "code",
   "execution_count": 1,
   "metadata": {
    "slideshow": {
     "slide_type": "subslide"
    }
   },
   "outputs": [],
   "source": [
    "# necessary dependencies\n",
    "\n",
    "import numpy as np\n",
    "import pandas as pd\n",
    "from collections import Counter"
   ]
  },
  {
   "cell_type": "code",
   "execution_count": 2,
   "metadata": {
    "slideshow": {
     "slide_type": "subslide"
    }
   },
   "outputs": [
    {
     "data": {
      "text/html": [
       "<div>\n",
       "<style scoped>\n",
       "    .dataframe tbody tr th:only-of-type {\n",
       "        vertical-align: middle;\n",
       "    }\n",
       "\n",
       "    .dataframe tbody tr th {\n",
       "        vertical-align: top;\n",
       "    }\n",
       "\n",
       "    .dataframe thead th {\n",
       "        text-align: right;\n",
       "    }\n",
       "</style>\n",
       "<table border=\"1\" class=\"dataframe\">\n",
       "  <thead>\n",
       "    <tr style=\"text-align: right;\">\n",
       "      <th></th>\n",
       "      <th>Survived</th>\n",
       "      <th>Age</th>\n",
       "      <th>Fare</th>\n",
       "    </tr>\n",
       "  </thead>\n",
       "  <tbody>\n",
       "    <tr>\n",
       "      <th>0</th>\n",
       "      <td>0</td>\n",
       "      <td>22.0</td>\n",
       "      <td>7.2500</td>\n",
       "    </tr>\n",
       "    <tr>\n",
       "      <th>1</th>\n",
       "      <td>1</td>\n",
       "      <td>38.0</td>\n",
       "      <td>71.2833</td>\n",
       "    </tr>\n",
       "    <tr>\n",
       "      <th>2</th>\n",
       "      <td>1</td>\n",
       "      <td>26.0</td>\n",
       "      <td>7.9250</td>\n",
       "    </tr>\n",
       "    <tr>\n",
       "      <th>3</th>\n",
       "      <td>1</td>\n",
       "      <td>35.0</td>\n",
       "      <td>53.1000</td>\n",
       "    </tr>\n",
       "    <tr>\n",
       "      <th>4</th>\n",
       "      <td>0</td>\n",
       "      <td>35.0</td>\n",
       "      <td>8.0500</td>\n",
       "    </tr>\n",
       "  </tbody>\n",
       "</table>\n",
       "</div>"
      ],
      "text/plain": [
       "   Survived   Age     Fare\n",
       "0         0  22.0   7.2500\n",
       "1         1  38.0  71.2833\n",
       "2         1  26.0   7.9250\n",
       "3         1  35.0  53.1000\n",
       "4         0  35.0   8.0500"
      ]
     },
     "execution_count": 2,
     "metadata": {},
     "output_type": "execute_result"
    }
   ],
   "source": [
    "# load training data\n",
    "\n",
    "data=pd.read_csv(\"./train.csv\")[[\"Survived\",\"Age\",\"Fare\"]]\n",
    "data=data.fillna(data.mean())\n",
    "data.head()"
   ]
  },
  {
   "cell_type": "code",
   "execution_count": 3,
   "metadata": {
    "slideshow": {
     "slide_type": "subslide"
    }
   },
   "outputs": [
    {
     "name": "stdout",
     "output_type": "stream",
     "text": [
      "    Age     Fare\n",
      "0  34.5   7.8292\n",
      "1  47.0   7.0000\n",
      "2  62.0   9.6875\n",
      "3  27.0   8.6625\n",
      "4  22.0  12.2875\n"
     ]
    }
   ],
   "source": [
    "# load test data\n",
    "\n",
    "passenger_id=pd.read_csv(\"./test.csv\")[\"PassengerId\"]\n",
    "test_data=pd.read_csv(\"./test.csv\")[[\"Age\",\"Fare\"]]\n",
    "test_data=test_data.fillna(test_data.mean())\n",
    "print(test_data.head())\n",
    "test_data=test_data.values"
   ]
  },
  {
   "cell_type": "markdown",
   "metadata": {
    "slideshow": {
     "slide_type": "subslide"
    }
   },
   "source": [
    "We need to visualize the training data to understand how k-NN works."
   ]
  },
  {
   "cell_type": "code",
   "execution_count": 5,
   "metadata": {
    "slideshow": {
     "slide_type": "fragment"
    }
   },
   "outputs": [
    {
     "data": {
      "image/png": "[encoded data removed]",
      "text/plain": [
       "<Figure size 432x288 with 1 Axes>"
      ]
     },
     "metadata": {},
     "output_type": "display_data"
    }
   ],
   "source": [
    "import matplotlib.pyplot as plt\n",
    "import matplotlib.patches as mpatches\n",
    "\n",
    "col=data[\"Survived\"]\n",
    "colormap = np.array(['r', 'g'])\n",
    "plt.scatter( x=data[\"Fare\"],y=data[\"Age\"], c=colormap[col])\n",
    "surv = mpatches.Patch(color='g', label='Survived')\n",
    "notSurv = mpatches.Patch(color='r', label='Did not survive')\n",
    "plt.xlabel('Fare')\n",
    "plt.ylabel('Age')\n",
    "plt.legend(handles=[surv,notSurv])\n",
    "plt.show()"
   ]
  },
  {
   "cell_type": "code",
   "execution_count": 6,
   "metadata": {
    "slideshow": {
     "slide_type": "subslide"
    }
   },
   "outputs": [],
   "source": [
    "def compute_distances_one_loop(new_points, X_train):\n",
    "    #X_Train = all of our given training samples, \n",
    "    # new_points = our new points on which we want to predict\n",
    "    \n",
    "    num_test = len(new_points)\n",
    "    num_train =X_train.shape[0]\n",
    "    dists = np.zeros((num_test, num_train))\n",
    "    for i in range(num_test):\n",
    "        \n",
    "        # for each test point, computing Euclidean distance from all points in X_train\n",
    "        difference = new_points[i] - X_train\n",
    "        difference = np.square(difference)\n",
    "        sum1 = np.sum(difference, axis=1)\n",
    "        dists[i] = np.sqrt(sum1)\n",
    "    return dists"
   ]
  },
  {
   "cell_type": "code",
   "execution_count": 7,
   "metadata": {
    "slideshow": {
     "slide_type": "subslide"
    }
   },
   "outputs": [],
   "source": [
    "# Now that we have distance from each point, we will simply find out the distance which is the least\n",
    "def predict(dists, training_labels, k=3):\n",
    "    closest_y = []\n",
    "    rank = list(np.argsort(dists))\n",
    "    for x in range(0, k):\n",
    "        closest_y.append(training_labels[rank[x]])\n",
    "    closest_y = np.asarray(closest_y)\n",
    "    c=Counter(closest_y)\n",
    "    return (c.most_common()[0][0])"
   ]
  },
  {
   "cell_type": "code",
   "execution_count": 8,
   "metadata": {
    "slideshow": {
     "slide_type": "subslide"
    }
   },
   "outputs": [
    {
     "name": "stdout",
     "output_type": "stream",
     "text": [
      "Training instances: 891\n",
      "Testing instances: 418\n"
     ]
    }
   ],
   "source": [
    "dists=compute_distances_one_loop(test_data,data[[\"Fare\",\"Age\"]])\n",
    "print('Training instances: {}'.format(data.shape[0]))\n",
    "print('Testing instances: {}'.format(test_data.shape[0]))\n",
    "\n",
    "Results=[]\n",
    "for x in dists:\n",
    "    Results.append(predict(x, data[\"Survived\"]))\n",
    "    \n"
   ]
  },
  {
   "cell_type": "code",
   "execution_count": 9,
   "metadata": {
    "slideshow": {
     "slide_type": "subslide"
    }
   },
   "outputs": [],
   "source": [
    "# storing the results\n",
    "f=open(\"result.csv\",\"w\")\n",
    "f.write(\"PassengerId,Survived\")\n",
    "for i in range(0, len(Results)):\n",
    "    f.write(\"\\n\")\n",
    "    f.write(str(passenger_id[i])+\",\"+ str(Results[i]))\n",
    "    \n",
    "f.close()"
   ]
  },
  {
   "cell_type": "markdown",
   "metadata": {
    "slideshow": {
     "slide_type": "slide"
    }
   },
   "source": [
    "Let's compare the performance of our implementation with the kNN classifier of **scikit-learn**"
   ]
  },
  {
   "cell_type": "code",
   "execution_count": 10,
   "metadata": {
    "slideshow": {
     "slide_type": "subslide"
    }
   },
   "outputs": [
    {
     "name": "stdout",
     "output_type": "stream",
     "text": [
      "TOTAL INSTANCES: 418\n",
      "RESULTS MATCHED B/W IMPLEMENTED KNN AND SCIKIT-LEARN INBUILT KNN: 416/418\n"
     ]
    }
   ],
   "source": [
    "from sklearn.neighbors import KNeighborsClassifier\n",
    "\n",
    "neigh = KNeighborsClassifier(n_neighbors=3)\n",
    "neigh.fit(data[[\"Fare\",\"Age\"]], data[\"Survived\"])\n",
    "scikit_result=neigh.predict(test_data)\n",
    "\n",
    "\n",
    "count=0\n",
    "notr=[]\n",
    "for i in range(0, len(scikit_result)):\n",
    "    if scikit_result[i]==Results[i]:\n",
    "        count+=1\n",
    "    else:\n",
    "        notr.append(i)\n",
    "        \n",
    "print (\"TOTAL INSTANCES: {}\".format(len(scikit_result)))\n",
    "print (\"RESULTS MATCHED B/W IMPLEMENTED KNN AND SCIKIT-LEARN INBUILT KNN: {}/{}\".format(count, len(scikit_result)))"
   ]
  },
  {
   "cell_type": "markdown",
   "metadata": {
    "slideshow": {
     "slide_type": "slide"
    }
   },
   "source": [
    "# End of Part 2"
   ]
  }
 ],
 "metadata": {
  "celltoolbar": "Slideshow",
  "kernelspec": {
   "display_name": "Python 3",
   "language": "python",
   "name": "python3"
  },
  "language_info": {
   "codemirror_mode": {
    "name": "ipython",
    "version": 3
   },
   "file_extension": ".py",
   "mimetype": "text/x-python",
   "name": "python",
   "nbconvert_exporter": "python",
   "pygments_lexer": "ipython3",
   "version": "3.6.9"
  }
 },
 "nbformat": 4,
 "nbformat_minor": 2
}
